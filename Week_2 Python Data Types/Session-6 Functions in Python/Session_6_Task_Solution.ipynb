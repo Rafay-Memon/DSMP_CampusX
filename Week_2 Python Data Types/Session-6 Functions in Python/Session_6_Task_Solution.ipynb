{
 "cells": [
  {
   "attachments": {},
   "cell_type": "markdown",
   "metadata": {},
   "source": [
    "# Problem-1: Write a Python function that takes a list and returns a new list with unique elements of the first list.\n",
    "Exercise 1:\n",
    "\n",
    "Input:\n",
    "\n",
    "[1,2,3,3,3,3,4,5]\n",
    "Output:\n",
    "\n",
    "[1, 2, 3, 4, 5]"
   ]
  },
  {
   "cell_type": "code",
   "execution_count": null,
   "metadata": {},
   "outputs": [],
   "source": [
    "def unique_list(list):\n",
    "    output = []\n",
    "    for i in list:\n",
    "        if i not in output:\n",
    "            output.append(i)\n",
    "    return output\n",
    "li = [1,2,3,3,3,3,4,5]\n",
    "\n",
    "unique_list(li)"
   ]
  },
  {
   "attachments": {},
   "cell_type": "markdown",
   "metadata": {},
   "source": [
    "# Problem-2: Write a Python function that accepts a hyphen-separated sequence of words as parameter and returns the words in a hyphen-separated sequence after sorting them alphabetically.\n",
    "Example 1:\n",
    "\n",
    "Input:\n",
    "\n",
    "green-red-yellow-black-white\n",
    "Output:\n",
    "\n",
    "black-green-red-white-yellow"
   ]
  },
  {
   "cell_type": "code",
   "execution_count": null,
   "metadata": {},
   "outputs": [],
   "source": [
    "def text(s):\n",
    "    output = []\n",
    "    for i in s.split('-'):\n",
    "        output.append(i)\n",
    "    result = ''\n",
    "    for i in sorted(output):\n",
    "        if i != sorted(output[-1]):\n",
    "            result += i + '-'\n",
    "        else:\n",
    "            result += i\n",
    "    return result\n",
    "\n",
    "text(\"green-red-yellow-black-white\")"
   ]
  },
  {
   "attachments": {},
   "cell_type": "markdown",
   "metadata": {},
   "source": [
    "# Problem 3: Write a Python function that accepts a string and calculate the number of upper case letters and lower case letters.\n",
    "Sample String : 'CampusX is an Online Mentorship Program fOr EnginEering studentS.'\n",
    "Expected Output :\n",
    "No. of Upper case characters :  9\n",
    "No. of Lower case Characters :  47"
   ]
  },
  {
   "cell_type": "code",
   "execution_count": null,
   "metadata": {},
   "outputs": [],
   "source": [
    "def count_upper_and_lower(s):\n",
    "    upper = 0\n",
    "    lower = 0\n",
    "    for i in s.split(' '):\n",
    "        for j in i:\n",
    "            if j.isupper():\n",
    "                upper += 1\n",
    "            else:\n",
    "                lower += 1 \n",
    "    return upper,lower\n",
    "\n",
    "u,l= count_upper_and_lower('CampusX is an Online Mentorship Program fOr EnginEering studentS')\n",
    "print(\"No of upper case letter are : \" ,u)\n",
    "print(\"No of lower case letter are : \" ,l)"
   ]
  },
  {
   "attachments": {},
   "cell_type": "markdown",
   "metadata": {},
   "source": [
    "# Problem 4: Write a Python program to print the even numbers from a given list.\n",
    "Sample List : [1, 2, 3, 4, 5, 6, 7, 8, 9]\n",
    "Expected Result : [2, 4, 6, 8]"
   ]
  },
  {
   "cell_type": "code",
   "execution_count": null,
   "metadata": {},
   "outputs": [],
   "source": [
    "def checking_even(l):\n",
    "    output = []\n",
    "    for i in l:\n",
    "        if i%2 == 0:\n",
    "            output.append(i)\n",
    "    return output\n",
    "\n",
    "checking_even([1, 2, 3, 4, 5, 6, 7, 8, 9])"
   ]
  },
  {
   "attachments": {},
   "cell_type": "markdown",
   "metadata": {},
   "source": [
    "# Problem 5: Write a Python function to check whether a number is perfect or not.\n",
    "A Perfect number is a number that is half the sum of all of its positive divisors (including itself).\n",
    "\n",
    "Example :\n",
    "\n",
    "The first perfect number is 6, because 1, 2, and 3 are its proper positive divisors, and 1 + 2 + 3 = 6. \n",
    "Equivalently, the number 6 is equal to half the sum of all its positive divisors: ( 1 + 2 + 3 + 6 ) / 2 = 6. \n",
    "\n",
    "The next perfect number is 28 = 1 + 2 + 4 + 7 + 14. This is followed by the perfect numbers 496 and 8128."
   ]
  },
  {
   "cell_type": "code",
   "execution_count": null,
   "metadata": {},
   "outputs": [],
   "source": [
    "def perfect_num(num):\n",
    "    sum = 0\n",
    "    flag = False\n",
    "    for i in range(1,num+1):\n",
    "        if num % i == 0:\n",
    "            sum += i\n",
    "    if sum / 2 == num:\n",
    "        flag = True\n",
    "    if flag == True:\n",
    "        print(num, \" is a perfect num\")\n",
    "    else:\n",
    "        print(num, \" is not a perfect num\")\n",
    "\n",
    "perfect_num(8128)"
   ]
  },
  {
   "attachments": {},
   "cell_type": "markdown",
   "metadata": {},
   "source": [
    "# Problem-6: Write a Python function to concatenate any no of dictionaries to create a new one.\n",
    "Sample Dictionary :\n",
    "dic1={1:10, 2:20}\n",
    "dic2={3:30, 4:40}\n",
    "dic3={5:50,6:60}\n",
    "Expected Result : {1: 10, 2: 20, 3: 30, 4: 40, 5: 50, 6: 60}"
   ]
  },
  {
   "cell_type": "code",
   "execution_count": null,
   "metadata": {},
   "outputs": [],
   "source": [
    "def concatenate_dict(*args):\n",
    "    result = {}\n",
    "    for dict in args:\n",
    "        for key,value in dict.items():\n",
    "            result[key] = value\n",
    "    return result\n",
    "\n",
    "concatenate_dict({1:10, 2:20},{3:30, 4:40},{5:50,6:60})"
   ]
  },
  {
   "attachments": {},
   "cell_type": "markdown",
   "metadata": {},
   "source": [
    "# Problem-7 Write a python function that accepts a string as input and returns the word with most occurence.\n",
    "\n",
    "Input:\n",
    "hello how are you i am fine thank you\n",
    "Output\n",
    "you -> 2"
   ]
  },
  {
   "cell_type": "code",
   "execution_count": null,
   "metadata": {},
   "outputs": [],
   "source": [
    "def most_occurence(s):\n",
    "    output = {}\n",
    "    words = s.split(' ')\n",
    "\n",
    "    for i in words:\n",
    "        if i in output:\n",
    "            output[i] += 1\n",
    "        else:\n",
    "            output[i] = 1\n",
    "    max = 0\n",
    "    for key,value in output.items():\n",
    "        if output[key] > max:\n",
    "            max = output[key]\n",
    "    for key,value in output.items():\n",
    "        if output[key] == max:\n",
    "            print(key,'->',output[key])\n",
    "\n",
    "most_occurence('hello how are you i am fine thank you')"
   ]
  },
  {
   "attachments": {},
   "cell_type": "markdown",
   "metadata": {},
   "source": [
    "# Problem-8 Write a python function that receives a list of integers and prints out a histogram of bin size 10\n",
    "\n",
    "Input:\n",
    "[13,42,15,37,22,39,41,50]\n",
    "Output:\n",
    "{11-20:2,21-30:1,31-40:2,41-50:3}"
   ]
  },
  {
   "cell_type": "code",
   "execution_count": null,
   "metadata": {},
   "outputs": [],
   "source": [
    "import math\n",
    "\n",
    "def histogram(L):\n",
    "\n",
    "  min_bin = math.floor(min(L)/10)*10\n",
    "  max_bin = math.ceil(max(L)/10)*10\n",
    "\n",
    "  output={}\n",
    "\n",
    "  for i in range(min_bin,max_bin,10):\n",
    "    count = 0\n",
    "    for j in L:\n",
    "      if i+1<=j<=i+10:\n",
    "        count+=1\n",
    "\n",
    "    output[str(i+1) + '-' + str(i+10)] = count\n",
    "\n",
    "  return output\n",
    "\n",
    "histogram([13,42,15,37,22,39,41,50])"
   ]
  },
  {
   "attachments": {},
   "cell_type": "markdown",
   "metadata": {},
   "source": [
    "# Problem-9 Write a python function that accepts a list of 2D co-ordinates and a query point, and then finds the the co-ordinate which is closest in terms of distance from the query point.\n",
    "\n",
    "List of Coordinates\n",
    "[(1,1),(2,2),(3,3),(4,4)]\n",
    "Query Point\n",
    "(0,0)\n",
    "Output\n",
    "Nearest to (0,0) is (1,1)"
   ]
  },
  {
   "cell_type": "code",
   "execution_count": null,
   "metadata": {},
   "outputs": [],
   "source": [
    "def shortest_dist(points,query):\n",
    "  temp = []\n",
    "  for i in points:\n",
    "    distance = ((i[0] - query[0])**2 + (i[1] - query[1])**2)**0.5\n",
    "    temp.append(distance)\n",
    "\n",
    "  return points[sorted(list(enumerate(temp)),key=lambda x:x[1])[0][0]]\n",
    "\n",
    "\n",
    "points = [(1,4),(2,-2),(13,3),(14,4)]\n",
    "query = (0,0)\n",
    "\n",
    "shortest_dist(points,query)"
   ]
  },
  {
   "attachments": {},
   "cell_type": "markdown",
   "metadata": {},
   "source": [
    "# Problem-10:Write a python program that receives a list of strings and performs bag of word operation on those strings\n",
    "\n",
    "https://en.wikipedia.org/wiki/Bag-of-words_model"
   ]
  },
  {
   "cell_type": "code",
   "execution_count": null,
   "metadata": {},
   "outputs": [],
   "source": [
    "def bag_Of_Words(L):\n",
    "\n",
    "  vocab = set()\n",
    "\n",
    "  for i in L:\n",
    "    vocab.update(i.split())\n",
    "\n",
    "  result = []\n",
    "\n",
    "  for i in L:\n",
    "    result.append([])\n",
    "    for j in vocab:\n",
    "      result[-1].append(i.count(j))\n",
    "\n",
    "  print(vocab)\n",
    "  return result\n",
    "\n",
    "\n",
    "L = [\n",
    "    'cat mat rat cat',\n",
    "     'sat bat fat cat rat',\n",
    "     'pat cat mat rat'\n",
    "]\n",
    "\n",
    "bag_Of_Words(L)"
   ]
  },
  {
   "attachments": {},
   "cell_type": "markdown",
   "metadata": {},
   "source": [
    "# Problem 11: Write a Python program to add three given lists using Python map and lambda."
   ]
  },
  {
   "cell_type": "code",
   "execution_count": null,
   "metadata": {},
   "outputs": [],
   "source": [
    "List1 = [1,2,3,4,5]\n",
    "List2 = [6,7,8,9,10]\n",
    "List3 = [11,12,13,14,15]\n",
    "\n",
    "list(map(lambda x,y,z:x+y+z,List1,List2,List3))"
   ]
  },
  {
   "attachments": {},
   "cell_type": "markdown",
   "metadata": {},
   "source": [
    "Problem-12:Write a Python program to create a list containing the power of said number in bases raised to the corresponding number in the index using Python map.\n",
    "Input:\n",
    "\n",
    "list1 = [1,2,3,4,5,6]\n",
    "Output:\n",
    "\n",
    "[1,2,9,64,625,-]"
   ]
  },
  {
   "cell_type": "code",
   "execution_count": null,
   "metadata": {},
   "outputs": [],
   "source": [
    "list1 = [1,2,3,4,5,6]\n",
    "list(map(lambda x,y:x**y,list1,range(len(list1))))"
   ]
  },
  {
   "attachments": {},
   "cell_type": "markdown",
   "metadata": {},
   "source": [
    "# Problem-13 Using filter() and list() functions and .lower() method filter all the vowels in a given string."
   ]
  },
  {
   "cell_type": "code",
   "execution_count": null,
   "metadata": {},
   "outputs": [],
   "source": [
    "text = 'CampusX is an Online Mentorship Program fOr EnginEering studentS'\n",
    "vowel = 'AEIOU'\n",
    "\n",
    "list(filter(lambda x: x in vowel or x in vowel.lower() , text))"
   ]
  },
  {
   "attachments": {},
   "cell_type": "markdown",
   "metadata": {},
   "source": [
    "# Problem-14: Use reduce to convert a 2D list to 1D"
   ]
  },
  {
   "cell_type": "code",
   "execution_count": null,
   "metadata": {},
   "outputs": [],
   "source": [
    "import functools\n",
    "List = [\n",
    "        [1,2,3,4,5],\n",
    "        [6,7,8,9,10],\n",
    "        [11,12,13,14,15]\n",
    "]\n",
    "functools.reduce(lambda x,y: x+y ,List)"
   ]
  },
  {
   "attachments": {},
   "cell_type": "markdown",
   "metadata": {},
   "source": [
    "# Problem 15- A dictionary contains following information about 5 employees:\n",
    "\n",
    "First name\n",
    "Last name\n",
    "Age\n",
    "Grade(Skilled,Semi-skilled,Highly skilled)\n",
    "Write a program using map/filter/reduce to a list of employees(first name + last name) who are highly skilled"
   ]
  },
  {
   "cell_type": "code",
   "execution_count": null,
   "metadata": {},
   "outputs": [],
   "source": [
    "employees = [\n",
    "    {\n",
    "        'fname':'Nitish',\n",
    "        'lname':'Singh',\n",
    "        'age' : 33,\n",
    "        'grade':'skilled'\n",
    "    },\n",
    "    {\n",
    "        'fname':'Ankit',\n",
    "        'lname':'Verma',\n",
    "        'age' : 34,\n",
    "        'grade':'semi-skilled'\n",
    "    },\n",
    "    {\n",
    "        'fname':'Neha',\n",
    "        'lname':'Singh',\n",
    "        'age' : 35,\n",
    "        'grade':'highly-skilled'\n",
    "    },\n",
    "    {\n",
    "        'fname':'Anurag',\n",
    "        'lname':'Kumar',\n",
    "        'age' : 30,\n",
    "        'grade':'skilled'\n",
    "    },\n",
    "    {\n",
    "        'fname':'Abhinav',\n",
    "        'lname':'Sharma',\n",
    "        'age' : 37,\n",
    "        'grade':'highly-skilled'\n",
    "    }\n",
    "    \n",
    "]\n",
    "\n",
    "list(map(lambda x:x['fname'] + ' ' + x['lname'],list(filter(lambda x:True if x['grade'] == 'highly-skilled' else False,employees))))"
   ]
  }
 ],
 "metadata": {
  "kernelspec": {
   "display_name": "Python 3",
   "language": "python",
   "name": "python3"
  },
  "language_info": {
   "codemirror_mode": {
    "name": "ipython",
    "version": 3
   },
   "file_extension": ".py",
   "mimetype": "text/x-python",
   "name": "python",
   "nbconvert_exporter": "python",
   "pygments_lexer": "ipython3",
   "version": "3.11.2"
  },
  "orig_nbformat": 4
 },
 "nbformat": 4,
 "nbformat_minor": 2
}
