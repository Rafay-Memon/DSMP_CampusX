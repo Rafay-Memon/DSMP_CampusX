{
 "cells": [
  {
   "attachments": {},
   "cell_type": "markdown",
   "metadata": {},
   "source": [
    "# Problem 1: Combine two lists index-wise(columns wise)\n",
    "Write a program to add two lists index-wise. Create a new list that contains the 0th index item from both the list, then the 1st index item, and so on till the last element. any leftover items will get added at the end of the new list.\n",
    "\n",
    "Given List:\n",
    "\n",
    "list1 = [\"M\", \"na\", \"i\", \"Kh\"]\n",
    "list2 = [\"y\", \"me\", \"s\", \"an\"]\n",
    "Output:\n",
    "[['M','y'], ['na', me'], ['i', 's'], ['Kh', 'an']]"
   ]
  },
  {
   "cell_type": "code",
   "execution_count": null,
   "metadata": {},
   "outputs": [],
   "source": [
    "list1 = [\"M\", \"na\", \"i\", \"Kh\"]\n",
    "list2 = [\"y\", \"me\", \"s\", \"an\"]\n",
    "result = [[list1[i],list2[i]] for i in range(len(list1))]\n",
    "\n",
    "print(result)\n"
   ]
  },
  {
   "attachments": {},
   "cell_type": "markdown",
   "metadata": {},
   "source": [
    "Problem 2: Add new item to list after a specified item\n",
    "Write a program to add item 7000 after 6000 in the following Python List\n",
    "\n",
    "list1 = [10, 20, [300, 400, [5000, 6000], 500], 30, 40]\n",
    "Output:\n",
    "\n",
    "[10, 20, [300, 400, [5000, 6000, 7000], 500], 30, 40]"
   ]
  },
  {
   "cell_type": "code",
   "execution_count": null,
   "metadata": {},
   "outputs": [],
   "source": [
    "list1 = [10, 20, [300, 400, [5000, 6000], 500], 30, 40]\n",
    "list1[2][2].append(7000)\n",
    "print(list1)"
   ]
  },
  {
   "attachments": {},
   "cell_type": "markdown",
   "metadata": {},
   "source": [
    "# Problem 3: Update no of items available\n",
    "Suppose you are given a list of candy and another list of same size representing no of items of respective candy.\n",
    "\n",
    "i.e -\n",
    "\n",
    "candy_list = ['Jelly Belly','Kit Kat','Double Bubble','Milky Way','Three Musketeers']\n",
    "no_of_items = [10,20,34,74,32]\n",
    "Write a program to show no. of items of each candy type.\n",
    "\n",
    "Output:\n",
    "\n",
    "Jelly Belly-10\n",
    "Kit Kat-20\n",
    "Double Bubble-34\n",
    "Milky Way-74\n",
    "Three Musketeers-32"
   ]
  },
  {
   "cell_type": "code",
   "execution_count": null,
   "metadata": {},
   "outputs": [],
   "source": [
    "candy_list = ['Jelly Belly','Kit Kat','Double Bubble','Milky Way','Three Musketeers']\n",
    "no_of_items = [10,20,34,74,32]\n",
    "\n",
    "result = []\n",
    "\n",
    "for i in range(len(candy_list)):\n",
    "    for j in range(len(no_of_items)):\n",
    "        if i == j:\n",
    "            result.append('{} - {}'.format(candy_list[i],no_of_items[j]))\n",
    "\n",
    "for i in result:\n",
    "    print(i)\n"
   ]
  },
  {
   "attachments": {},
   "cell_type": "markdown",
   "metadata": {},
   "source": [
    "Problem 4: Running Sum on list\n",
    "Write a program to print a list after performing running sum on it.\n",
    "\n",
    "i.e:\n",
    "\n",
    "Input:\n",
    "\n",
    "list1 = [1,2,3,4,5,6]\n",
    "Output:\n",
    "\n",
    "[1,3,6,10,15,21]"
   ]
  },
  {
   "cell_type": "code",
   "execution_count": null,
   "metadata": {},
   "outputs": [],
   "source": [
    "list1 = [1,2,3,4,5,6]\n",
    "result = []\n",
    "\n",
    "for i in range(len(list1)):\n",
    "    sum = 0\n",
    "    for j in range(i,-1,-1):\n",
    "        sum += list1[j]\n",
    "    result.append(sum)\n",
    "print(result) "
   ]
  },
  {
   "attachments": {},
   "cell_type": "markdown",
   "metadata": {},
   "source": [
    "# Problem 5: You are given a list of integers. You are asked to make a list by running through elements of the list by adding all elements greater and itself.\n",
    "i.e. Say given list is [2,4,6,10,1] resultant list will be [22,20,10,23].\n",
    "\n",
    "For 1st element 2 ->> these are greater (4+6+10) values and 2 itself so on adding becomes 22.\n",
    "\n",
    "For 2nd element 4 ->> greater elements are (6, 10) and 4 itself, so on adding 20\n",
    "\n",
    "like wise for all other elememts.\n",
    "\n",
    "[2,4,6,10,1]-->[22,20,16,10,23]"
   ]
  },
  {
   "cell_type": "code",
   "execution_count": null,
   "metadata": {},
   "outputs": [],
   "source": [
    "L = [2,4,6,10,1]\n",
    "result = []\n",
    "\n",
    "for i in range(len(L)):\n",
    "    sum = 0\n",
    "    for j in range(len(L)):\n",
    "        if L[j] >= L[i]:\n",
    "            sum += L[j]\n",
    "    result.append(sum)\n",
    "\n",
    "print(result)\n"
   ]
  },
  {
   "attachments": {},
   "cell_type": "markdown",
   "metadata": {},
   "source": [
    "# Problem 6: Find list of common unique items from two list. and show in increasing order\n",
    "Input\n",
    "\n",
    "num1 = [23,45,67,78,89,34]\n",
    "num2 = [34,89,55,56,39,67]\n",
    "Output:\n",
    "\n",
    "[34, 67, 89]"
   ]
  },
  {
   "cell_type": "code",
   "execution_count": null,
   "metadata": {},
   "outputs": [],
   "source": [
    "num1 = [23,45,67,78,89,34]\n",
    "num2 = [34,89,55,56,39,67]\n",
    "L = []\n",
    "for i in range(0, len(num2)):\n",
    "    for j in range(0, len(num1)):\n",
    "        if num1[j] == num2[i]:\n",
    "            L.append(num1[j])\n",
    "\n",
    "for i in range(0, len(L)):\n",
    "    for j in range(0, len(L)-1):\n",
    "        if L[j] > L[j+1]:\n",
    "            temp = L[j]\n",
    "            L[j] = L[j+1]\n",
    "            L[j+1] = temp\n",
    "\n",
    "print(L)"
   ]
  },
  {
   "attachments": {},
   "cell_type": "markdown",
   "metadata": {},
   "source": [
    "# Problem 7: Sort a list of alphanumeric strings based on product value of numeric character in it. If in any string there is no numeric character take it's product value as 1.\n",
    "Input:\n",
    "\n",
    "['1ac21', '23fg', '456', '098d','1','kls']\n",
    "Output:\n",
    "\n",
    "['456', '23fg', '1ac21', '1', 'kls', '098d']"
   ]
  },
  {
   "cell_type": "code",
   "execution_count": null,
   "metadata": {},
   "outputs": [],
   "source": [
    "L = ['1ac21', '23fg', '456', '098d','1','kls']\n",
    "prod_value = []\n",
    "for item in L:\n",
    "  product = 1\n",
    "  for char in item:\n",
    "    if char.isdigit():\n",
    "      product = product*int(char)\n",
    "\n",
    "  prod_value.append(product)\n",
    "\n",
    "[i[1] for i in sorted(list(zip(prod_value,L)),reverse=True)]"
   ]
  },
  {
   "attachments": {},
   "cell_type": "markdown",
   "metadata": {},
   "source": [
    "# Problem 8: Split String of list on K character.\n",
    "\n",
    "Example :\n",
    "\n",
    "Input:\n",
    "\n",
    "['CampusX is a channel', 'for data-science', 'aspirants.']\n",
    "Output:\n",
    "\n",
    "['CampusX', 'is', 'a', 'channel', 'for', 'data-science', 'aspirants.']"
   ]
  },
  {
   "cell_type": "code",
   "execution_count": null,
   "metadata": {},
   "outputs": [],
   "source": [
    "L = ['CampusX is a channel', 'for data-science', 'aspirants.']\n",
    "result = []\n",
    "\n",
    "for i in L:\n",
    "    for j in i.split():\n",
    "        result.append(j)\n",
    "print(result)"
   ]
  },
  {
   "attachments": {},
   "cell_type": "markdown",
   "metadata": {},
   "source": [
    "# Problem 9: Convert Character Matrix to single String using string comprehension.\n",
    "Example 1:\n",
    "\n",
    "Input:\n",
    "\n",
    "[['c', 'a', 'm', 'p', 'u', 'x'], ['i', 's'], ['b', 'e', 's', 't'], ['c', 'h', 'a', 'n', 'n', 'e', 'l']]\n",
    "Output:\n",
    "\n",
    "campux is best channel"
   ]
  },
  {
   "cell_type": "code",
   "execution_count": null,
   "metadata": {},
   "outputs": [],
   "source": [
    "info = [['c', 'a', 'm', 'p', 'u', 'x'], ['i', 's'], ['b', 'e', 's', 't'], ['c', 'h', 'a', 'n', 'n', 'e', 'l']]\n",
    "text = ''\n",
    "for i in range(0,len(info)):\n",
    "    for j in info[i]:\n",
    "        text += j\n",
    "    text += ' '\n",
    "print(text)"
   ]
  },
  {
   "attachments": {},
   "cell_type": "markdown",
   "metadata": {},
   "source": [
    "# Problem 10: Add Space between Potential Words.\n",
    "Example:\n",
    "\n",
    "Input:\n",
    "\n",
    "['campusxIs', 'bestFor', 'dataScientist']\n",
    "Output:\n",
    "\n",
    "['campusx Is', 'best For', 'data Scientist']"
   ]
  },
  {
   "cell_type": "code",
   "execution_count": null,
   "metadata": {},
   "outputs": [],
   "source": [
    "li = ['campusxIs', 'bestFor', 'dataScientist']\n",
    "result = []\n",
    " \n",
    "result = []\n",
    " \n",
    "# loop to iterate all strings\n",
    "for i in li:\n",
    "    temp = [[]]\n",
    "    for char in i:\n",
    "\n",
    "        if char.isupper():\n",
    "            temp.append([])\n",
    "\n",
    "        temp[-1].append(char)\n",
    "    result.append(' '.join(''.join(i) for i in temp))\n",
    "    \n",
    "print(result)\n"
   ]
  },
  {
   "attachments": {},
   "cell_type": "markdown",
   "metadata": {},
   "source": [
    "# Problem 11: Write a program that can perform union operation on 2 lists\n",
    "Example:\n",
    "\n",
    "Input:\n",
    "\n",
    "[1,2,3,4,5,1]\n",
    "[2,3,5,7,8]\n",
    "Output:\n",
    "\n",
    "[1,2,3,4,5,7,8]"
   ]
  },
  {
   "cell_type": "code",
   "execution_count": null,
   "metadata": {},
   "outputs": [],
   "source": [
    "l1 = [1,2,3,4,5,1]\n",
    "l2 = [2,3,5,7,8]\n",
    "union = []\n",
    "\n",
    "for i in l1:\n",
    "    if i not in union:\n",
    "        union.append(i)\n",
    "for j in l2:\n",
    "    if j not in union:\n",
    "        union.append(j)\n",
    "\n",
    "            \n",
    "print(union)"
   ]
  },
  {
   "attachments": {},
   "cell_type": "markdown",
   "metadata": {},
   "source": [
    "# Problem 12: Write a program that can find the max number of each row of a matrix\n",
    "Example:\n",
    "\n",
    "Input:\n",
    "\n",
    "[[1,2,3],[4,5,6],[7,8,9]]\n",
    "Output:\n",
    "\n",
    "[3,6,9]"
   ]
  },
  {
   "cell_type": "code",
   "execution_count": null,
   "metadata": {},
   "outputs": [],
   "source": [
    "l1 = [[1,2,3],[4,5,6],[7,8,9]]\n",
    "maxL = []\n",
    "\n",
    "for i in range (0, len(l1)):\n",
    "    for j in range(0,len(l1[i])):\n",
    "        max = 0\n",
    "        if l1[i][j] > max:\n",
    "            max = l1[i][j]\n",
    "    maxL.append(max)\n",
    "\n",
    "print(maxL)"
   ]
  },
  {
   "attachments": {},
   "cell_type": "markdown",
   "metadata": {},
   "source": [
    "# Problem 13: Write a list comprehension to print the following matrix\n",
    "[[0, 1, 2], [3, 4, 5], [6, 7, 8]]"
   ]
  },
  {
   "cell_type": "code",
   "execution_count": null,
   "metadata": {},
   "outputs": [],
   "source": [
    "[[j + 3*i for j in range(0,3)] for i in range(0,3)]"
   ]
  },
  {
   "attachments": {},
   "cell_type": "markdown",
   "metadata": {},
   "source": [
    "# Problem 14: Write a list comprehension that can transpose a given matrix\n",
    "matrix = [\n",
    "[1,2,3],\n",
    "[4,5,6],\n",
    "[7,8,9]\n",
    "]\n",
    "\n",
    "[1, 4, 7]\n",
    "[2, 5, 8]\n",
    "[3, 6, 9]"
   ]
  },
  {
   "cell_type": "code",
   "execution_count": null,
   "metadata": {},
   "outputs": [],
   "source": [
    "matrix = [\n",
    "[1,2,3],\n",
    "[4,5,6],\n",
    "[7,8,9]\n",
    "]\n",
    "\n",
    "result = [[row[i] for row in matrix] for i in range(len(matrix))]\n",
    "print(result)"
   ]
  },
  {
   "attachments": {},
   "cell_type": "markdown",
   "metadata": {},
   "source": [
    "# Problem 15: Write a list comprehension that can flatten a nested list\n",
    "Input\n",
    "matrix = [\n",
    "[1,2,3],\n",
    "[4,5,6],\n",
    "[7,8,9]\n",
    "]\n",
    "\n",
    "Output:\n",
    "[1, 2, 3, 4, 5, 6, 7, 8, 9]"
   ]
  },
  {
   "cell_type": "code",
   "execution_count": null,
   "metadata": {},
   "outputs": [],
   "source": [
    "matrix = [\n",
    "[1,2,3],\n",
    "[4,5,6],\n",
    "[7,8,9]\n",
    "]\n",
    "\n",
    "\n",
    "result = [element for row in matrix for element in row]\n",
    "print(result)"
   ]
  }
 ],
 "metadata": {
  "kernelspec": {
   "display_name": "Python 3",
   "language": "python",
   "name": "python3"
  },
  "language_info": {
   "codemirror_mode": {
    "name": "ipython",
    "version": 3
   },
   "file_extension": ".py",
   "mimetype": "text/x-python",
   "name": "python",
   "nbconvert_exporter": "python",
   "pygments_lexer": "ipython3",
   "version": "3.11.2"
  },
  "orig_nbformat": 4
 },
 "nbformat": 4,
 "nbformat_minor": 2
}
