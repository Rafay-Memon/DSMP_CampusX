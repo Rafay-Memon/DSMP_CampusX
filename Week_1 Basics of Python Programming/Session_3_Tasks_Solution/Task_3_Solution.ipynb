{
 "cells": [
  {
   "attachments": {},
   "cell_type": "markdown",
   "metadata": {},
   "source": [
    "# Problem 1 - Print the following pattern. Write a program to use for loop to print the following reverse number pattern.\n",
    "5 4 3 2 1 \n",
    "4 3 2 1 \n",
    "3 2 1 \n",
    "2 1 \n",
    "1"
   ]
  },
  {
   "cell_type": "code",
   "execution_count": 2,
   "metadata": {},
   "outputs": [
    {
     "name": "stdout",
     "output_type": "stream",
     "text": [
      "5 4 3 2 1 \n",
      "4 3 2 1 \n",
      "3 2 1 \n",
      "2 1 \n",
      "1 \n"
     ]
    }
   ],
   "source": [
    "for i in range(5,0,-1):\n",
    "    for j in range(i,0,-1):\n",
    "        print(j,end=' ')\n",
    "    print()\n"
   ]
  },
  {
   "attachments": {},
   "cell_type": "markdown",
   "metadata": {},
   "source": [
    "# Problem 2: Print the following pattern.\n",
    "\n",
    "* \n",
    "* * \n",
    "* * * \n",
    "* * * * \n",
    "* * * * * \n",
    "* * * * \n",
    "* * * \n",
    "* * \n",
    "*"
   ]
  },
  {
   "cell_type": "code",
   "execution_count": 6,
   "metadata": {},
   "outputs": [
    {
     "name": "stdout",
     "output_type": "stream",
     "text": [
      "* \n",
      "* * \n",
      "* * * \n",
      "* * * * \n",
      "* * * * * \n",
      "* * * * \n",
      "* * * \n",
      "* * \n",
      "* \n",
      "\n"
     ]
    }
   ],
   "source": [
    "rows = int(input('Enter the rows: '))\n",
    "for i in range(1,rows+1):\n",
    "    for j in range(1,i+1):\n",
    "        print('*',end=' ')\n",
    "    print()\n",
    "for k in range(rows,0,-1):\n",
    "    for j in range(k-1,0,-1):\n",
    "        print('*',end=' ')\n",
    "    print()"
   ]
  },
  {
   "attachments": {},
   "cell_type": "markdown",
   "metadata": {},
   "source": [
    "# Problem 3:Write a program to pring the following pattern\n",
    "    *\n",
    "   * *\n",
    "  * * *"
   ]
  },
  {
   "cell_type": "code",
   "execution_count": 12,
   "metadata": {},
   "outputs": [
    {
     "name": "stdout",
     "output_type": "stream",
     "text": [
      "  * \n",
      " * * \n",
      "* * * \n"
     ]
    }
   ],
   "source": [
    "rows = 3\n",
    "for i in range(1,rows+1):\n",
    "    for j in range(i,rows):\n",
    "        print(' ',end='')\n",
    "    for k in range(1,i+1):\n",
    "        print('* ',end='')\n",
    "    print()"
   ]
  },
  {
   "attachments": {},
   "cell_type": "markdown",
   "metadata": {},
   "source": [
    "# Problem 4:Write a program to print the following pattern\n",
    "\n",
    "1\n",
    "\n",
    "2 1\n",
    "\n",
    "3 2 1\n",
    "\n",
    "4 3 2 1\n",
    "\n",
    "5 4 3 2 1"
   ]
  },
  {
   "cell_type": "code",
   "execution_count": 13,
   "metadata": {},
   "outputs": [
    {
     "name": "stdout",
     "output_type": "stream",
     "text": [
      "1 \n",
      "2 1 \n",
      "3 2 1 \n",
      "4 3 2 1 \n",
      "5 4 3 2 1 \n"
     ]
    }
   ],
   "source": [
    "for i in range(1,6):\n",
    "    for j in range(i,0,-1):\n",
    "        print(j,end=' ')\n",
    "    print()"
   ]
  },
  {
   "attachments": {},
   "cell_type": "markdown",
   "metadata": {},
   "source": [
    "# Problem 5: Write a Python Program to Find the Sum of the Series till the nth term:\n",
    "1 + x^2/2 + x^3/3 + … x^n/n\n",
    "n will be provided by the user"
   ]
  },
  {
   "cell_type": "code",
   "execution_count": 15,
   "metadata": {},
   "outputs": [
    {
     "name": "stdout",
     "output_type": "stream",
     "text": [
      "1 + x^2/2 +x^3/3 +x^4/4 +x^5/5 \n",
      "22884.333333333332\n"
     ]
    }
   ],
   "source": [
    "x = 10\n",
    "n = int(input('Enter the value of n: '))\n",
    "\n",
    "sum = 1\n",
    "s = ''\n",
    "print('1 + ',end='')\n",
    "for i in range(2,n+1):\n",
    "  sum = sum + x**i/i\n",
    "  s = s + 'x^{}/{} +'.format(i,i)\n",
    "print(s[:-1])\n",
    "print(sum)"
   ]
  },
  {
   "attachments": {},
   "cell_type": "markdown",
   "metadata": {},
   "source": [
    "# Problem 6: The natural logarithm can be approximated by the following series.\n",
    "\n",
    "If x is input through the keyboard, write a program to calculate the sum of the first seven terms of this series."
   ]
  },
  {
   "cell_type": "code",
   "execution_count": 16,
   "metadata": {},
   "outputs": [
    {
     "name": "stdout",
     "output_type": "stream",
     "text": [
      "(1/1)*((x-1)/x)^1 +(1/2)*((x-1)/x)^2 +(1/3)*((x-1)/x)^3 \n",
      "1.2906666666666669\n"
     ]
    }
   ],
   "source": [
    "x = int(input('Enter the value of x: '))\n",
    "n = int(input('Enter the value of n: '))\n",
    "\n",
    "sum = 0\n",
    "s = ''\n",
    "for i in range(1,n+1):\n",
    "  sum = sum + (1/i)*((x-1)/x)**i\n",
    "  s = s + '(1/{})*((x-1)/x)^{} +'.format(i,i)\n",
    "print(s[:-1])\n",
    "print(sum)"
   ]
  },
  {
   "attachments": {},
   "cell_type": "markdown",
   "metadata": {},
   "source": [
    "# Problem 7 - Find the sum of the series upto n terms.\n",
    "Write a program to calculate the sum of series up to n term. For example, if n =5 the series will become 2 + 22 + 222 + 2222 + 22222 = 24690. Take the user input and then calculate. And the output style should match which is given in the example.\n",
    "\n",
    "Example 1:\n",
    "\n",
    "Input:\n",
    "\n",
    "5\n",
    "Output:\n",
    "\n",
    "2+22+222+2222+22222\n",
    "Sum of above series is: 24690"
   ]
  },
  {
   "cell_type": "code",
   "execution_count": 18,
   "metadata": {},
   "outputs": [
    {
     "name": "stdout",
     "output_type": "stream",
     "text": [
      "2+22+222+2222+22222\n",
      "Sum of above series is: 24690\n"
     ]
    }
   ],
   "source": [
    "n = int(input('Enter the value of n: '))\n",
    "sum = 0\n",
    "result = ''\n",
    "for i in range(1,n+1):\n",
    "    if i > 1:\n",
    "        result += '+'\n",
    "    s = '2'\n",
    "    sum += int(s*i)\n",
    "    result += s*i\n",
    "\n",
    "print(result)\n",
    "print('Sum of above series is:',sum)\n",
    "\n"
   ]
  },
  {
   "attachments": {},
   "cell_type": "markdown",
   "metadata": {},
   "source": [
    "Problem 8: Write a program to print all the unique combinations of 1,2,3 and 4\n",
    "Output:\n",
    "\n",
    "1 2 3 4\n",
    "1 2 4 3\n",
    "1 3 2 4\n",
    "1 3 4 2\n",
    "1 4 2 3\n",
    "1 4 3 2\n",
    "2 1 3 4\n",
    "2 1 4 3\n",
    "2 3 1 4\n",
    "2 3 4 1\n",
    "2 4 1 3\n",
    ".\n",
    ".\n",
    "and so on"
   ]
  },
  {
   "cell_type": "code",
   "execution_count": 22,
   "metadata": {},
   "outputs": [
    {
     "name": "stdout",
     "output_type": "stream",
     "text": [
      "1 2 3 4\n",
      "1 2 4 3\n",
      "1 3 2 4\n",
      "1 3 4 2\n",
      "1 4 2 3\n",
      "1 4 3 2\n",
      "2 1 3 4\n",
      "2 1 4 3\n",
      "2 3 1 4\n",
      "2 3 4 1\n",
      "2 4 1 3\n",
      "2 4 3 1\n",
      "3 1 2 4\n",
      "3 1 4 2\n",
      "3 2 1 4\n",
      "3 2 4 1\n",
      "3 4 1 2\n",
      "3 4 2 1\n",
      "4 1 2 3\n",
      "4 1 3 2\n",
      "4 2 1 3\n",
      "4 2 3 1\n",
      "4 3 1 2\n",
      "4 3 2 1\n"
     ]
    }
   ],
   "source": [
    "for i in range(1,5):\n",
    "  for j in range(1,5):\n",
    "    for k in range(1,5):\n",
    "      for m in range(1,5):\n",
    "        # Make sure indexes are not same\n",
    "        if i!=j and i!=k and i!=m and j!=k and j != m and k!=m:\n",
    "            print(i,j,k,m)"
   ]
  },
  {
   "attachments": {},
   "cell_type": "markdown",
   "metadata": {},
   "source": [
    "# Problem 9: Write a program that will take a decimal number as input and prints out the binary equivalent of the number"
   ]
  },
  {
   "cell_type": "code",
   "execution_count": 39,
   "metadata": {},
   "outputs": [
    {
     "name": "stdout",
     "output_type": "stream",
     "text": [
      "The binary equivalent of 6 is: 110\n"
     ]
    }
   ],
   "source": [
    "num = int(input(\"Enter a number to get it's binary equivalent: \"))\n",
    "operand = num\n",
    "temp = []\n",
    "\n",
    "while operand != 0:\n",
    "    temp.append(operand % 2)\n",
    "    operand = operand // 2\n",
    "\n",
    "result = ''\n",
    "for i in temp[::-1]:\n",
    "    result += str(i)\n",
    "print(f\"The binary equivalent of {num} is: {result}\")"
   ]
  },
  {
   "attachments": {},
   "cell_type": "markdown",
   "metadata": {},
   "source": [
    "# Problem 10: Write a program that will take 2 numbers as input and prints the LCM and HCF of those 2 numbers"
   ]
  },
  {
   "cell_type": "code",
   "execution_count": 41,
   "metadata": {},
   "outputs": [
    {
     "name": "stdout",
     "output_type": "stream",
     "text": [
      "The HCF of 15,12 is: 3\n",
      "The LCM of 15,12 is: 60\n"
     ]
    }
   ],
   "source": [
    "x = int(input('Enter 1st number:'))\n",
    "y = int(input('Enter 2nd number: '))\n",
    "\n",
    "# Finding HCF\n",
    "if x<y:\n",
    "  smaller = x\n",
    "else:\n",
    "  smaller = y\n",
    "\n",
    "for i in range(1,smaller+1):\n",
    "  if (x % i == 0) and (y % i == 0):\n",
    "    hcf = i\n",
    "\n",
    "#Finding LCM\n",
    "if x > y:\n",
    "  greater = x\n",
    "else:\n",
    "  greater = y\n",
    "\n",
    "while True:\n",
    "  if (greater % x == 0) and (greater % y == 0):\n",
    "    lcm = greater\n",
    "    break\n",
    "  \n",
    "  greater = greater + 1\n",
    "\n",
    "print(f\"The HCF of {x},{y} is: {hcf}\")\n",
    "print(f\"The LCM of {x},{y} is: {lcm}\")"
   ]
  },
  {
   "attachments": {},
   "cell_type": "markdown",
   "metadata": {},
   "source": [
    "# Problem 11: Create Short Form from initial character\n",
    "Given a string create short form ofthe string from Initial character. Short form should be capitalised.\n",
    "\n",
    "Example:\n",
    "\n",
    "Input:\n",
    "\n",
    "Data science mentorship program\n",
    "Output:\n",
    "\n",
    "DSMP"
   ]
  },
  {
   "cell_type": "code",
   "execution_count": 42,
   "metadata": {},
   "outputs": [
    {
     "name": "stdout",
     "output_type": "stream",
     "text": [
      "DSMP\n"
     ]
    }
   ],
   "source": [
    "input = 'Data science Mentorship Program'\n",
    "\n",
    "result = ''\n",
    "\n",
    "for i in input.split(' '):\n",
    "  result = result + i[0].upper()\n",
    "\n",
    "print(result)"
   ]
  },
  {
   "attachments": {},
   "cell_type": "markdown",
   "metadata": {},
   "source": [
    "# Problem 12: Append second string in the middle of first string\n",
    "Input:\n",
    "\n",
    "campusx\n",
    "data\n",
    "Output:\n",
    "\n",
    "camdatapusx"
   ]
  },
  {
   "cell_type": "code",
   "execution_count": 6,
   "metadata": {},
   "outputs": [
    {
     "name": "stdout",
     "output_type": "stream",
     "text": [
      "camdatapusx\n"
     ]
    }
   ],
   "source": [
    "f_text = input('Enter 1st String: ')\n",
    "s_text = input('Enter 2nd String: ')\n",
    "\n",
    "temp = []\n",
    "pos = len(f_text) // 2\n",
    "\n",
    "for i in range(0,len(f_text)):\n",
    "    if i == pos:\n",
    "        temp.extend(s_text)\n",
    "        temp.append(f_text[i])\n",
    "    else:\n",
    "        temp.append(f_text[i])\n",
    "\n",
    "result  = ''.join(temp)\n",
    "print(result)"
   ]
  },
  {
   "attachments": {},
   "cell_type": "markdown",
   "metadata": {},
   "source": [
    "Problem 13:Given string contains a combination of the lower and upper case letters. Write a program to arrange the characters of a string so that all lowercase letters should come first.\n",
    "Given:\n",
    "\n",
    "str1 = PyNaTive\n",
    "\n",
    "Expected Output:\n",
    "\n",
    "yaivePNT"
   ]
  },
  {
   "cell_type": "code",
   "execution_count": 7,
   "metadata": {},
   "outputs": [
    {
     "name": "stdout",
     "output_type": "stream",
     "text": [
      "yaivePNT\n"
     ]
    }
   ],
   "source": [
    "text = 'PyNaTive'\n",
    "\n",
    "result = []\n",
    "for i in text:\n",
    "    if i.islower():\n",
    "        result.append(i)\n",
    "for j in text:\n",
    "    if j not in result:\n",
    "        result.append(j)\n",
    "        \n",
    "output = ''.join(result)\n",
    "print(output)"
   ]
  },
  {
   "attachments": {},
   "cell_type": "markdown",
   "metadata": {},
   "source": [
    "# Problem 14:Take a alphanumeric string input and print the sum and average of the digits that appear in the string, ignoring all other characters.\n",
    "Input:\n",
    "\n",
    "hel123O4every093\n",
    "\n",
    "Output:\n",
    "\n",
    "Sum: 22\n",
    "Avg: 2.75"
   ]
  },
  {
   "cell_type": "code",
   "execution_count": 8,
   "metadata": {},
   "outputs": [
    {
     "name": "stdout",
     "output_type": "stream",
     "text": [
      "Sum is: 22\n",
      "Average is 3.142857142857143\n"
     ]
    }
   ],
   "source": [
    "s = 'hel123O4every093'\n",
    "\n",
    "sum = 0\n",
    "count = 0\n",
    "\n",
    "for i in s:\n",
    "  if i.isdigit():\n",
    "    sum = sum + int(i)\n",
    "    count += 1\n",
    "\n",
    "print(f\"Sum is: {sum}\")\n",
    "print(f\"Average is {sum/count}\")"
   ]
  },
  {
   "attachments": {},
   "cell_type": "markdown",
   "metadata": {},
   "source": [
    "# Problem 15: Removal of all characters from a string except integers\n",
    "Given:\n",
    "\n",
    "str1 = 'I am 25 years and 10 months old'\n",
    "\n",
    "Expected Output:\n",
    "\n",
    "2510"
   ]
  },
  {
   "cell_type": "code",
   "execution_count": 10,
   "metadata": {},
   "outputs": [
    {
     "name": "stdout",
     "output_type": "stream",
     "text": [
      "2510\n"
     ]
    }
   ],
   "source": [
    "s = 'I am 25 years and 10 months old'\n",
    "result = ''\n",
    "\n",
    "for i in s:\n",
    "    if i.isdigit():\n",
    "        result += i\n",
    "\n",
    "print(result)"
   ]
  },
  {
   "attachments": {},
   "cell_type": "markdown",
   "metadata": {},
   "source": [
    "# Problem 16: Check whether the string is Symmetrical.\n",
    "Statement: Given a string. the task is to check if the string is symmetrical or not. A string is said to be symmetrical if both the halves of the string are the same.\n",
    "\n",
    "Example 1:\n",
    "\n",
    "Input\n",
    "\n",
    "khokho"
   ]
  },
  {
   "cell_type": "code",
   "execution_count": 13,
   "metadata": {},
   "outputs": [
    {
     "name": "stdout",
     "output_type": "stream",
     "text": [
      "Not Symmetrical\n"
     ]
    }
   ],
   "source": [
    "text = input(\"Enter a String: \")\n",
    "\n",
    "isEven = True if len(text) % 2 == 0 else False \n",
    "\n",
    "f_half = ''\n",
    "s_half = ''\n",
    "if isEven:\n",
    "    f_half += text[0:int(len(text)/2)]\n",
    "    s_half += text[int(len(text)/2):]\n",
    "    if f_half == s_half:\n",
    "        print('Symmetrical')\n",
    "    else:\n",
    "        print('Not Symmetrical')\n",
    "else:\n",
    "    print('Not Symmetrical')"
   ]
  },
  {
   "attachments": {},
   "cell_type": "markdown",
   "metadata": {},
   "source": [
    "# Problem 17: Reverse words in a given String\n",
    "Statement: We are given a string and we need to reverse words of a given string.\n",
    "\n",
    "Example 1:\n",
    "\n",
    "Input:\n",
    "\n",
    "geeks quiz practice code\n",
    "Output:\n",
    "\n",
    "code practice quiz geeks\n",
    "Example 2:\n",
    "\n",
    "Input:\n",
    "\n",
    "my name is laxmi\n",
    "Output:\n",
    "\n",
    "laxmi is name my"
   ]
  },
  {
   "cell_type": "code",
   "execution_count": 17,
   "metadata": {},
   "outputs": [
    {
     "name": "stdout",
     "output_type": "stream",
     "text": [
      "Input\n",
      "geeks quiz practice quiz\n",
      "output\n",
      "quiz practice quiz geeks\n"
     ]
    }
   ],
   "source": [
    "text = input(\"Enter a string: \")\n",
    "\n",
    "L = []\n",
    "\n",
    "for i in text.split():\n",
    "  L.append(i)\n",
    "\n",
    "L = L[::-1]\n",
    "result = \" \".join(L)\n",
    "\n",
    "print(f\"Input\\n{text}\")\n",
    "print(f\"output\\n{result}\")"
   ]
  },
  {
   "attachments": {},
   "cell_type": "markdown",
   "metadata": {},
   "source": [
    "# Problem 18: Find uncommon words from two Strings.\n",
    "Statement: Given two sentences as strings A and B. The task is to return a list of all uncommon words. A word is uncommon if it appears exactly once in any one of the sentences, and does not appear in the other sentence. Note: A sentence is a string of space-separated words. Each word consists only of lowercase letters.\n",
    "\n",
    "Example 1:\n",
    "\n",
    "Input:\n",
    "\n",
    "A = \"apple banana mango\" \n",
    "B = \"banana fruits mango\"\n",
    "Output:\n",
    "\n",
    "['apple', 'fruits']"
   ]
  },
  {
   "cell_type": "code",
   "execution_count": 18,
   "metadata": {},
   "outputs": [
    {
     "name": "stdout",
     "output_type": "stream",
     "text": [
      "['apple', 'fruits']\n"
     ]
    }
   ],
   "source": [
    "A = \"apple banana mango\" \n",
    "B = \"banana fruits mango\"\n",
    "\n",
    "L = []\n",
    "\n",
    "for i in A.split():\n",
    "  if i not in B and i not in L:\n",
    "    L.append(i)\n",
    "\n",
    "for j in B.split():\n",
    "  if j not in A and j not in L:\n",
    "    L.append(j)\n",
    "\n",
    "print(L)"
   ]
  },
  {
   "attachments": {},
   "cell_type": "markdown",
   "metadata": {},
   "source": [
    "Problem 19: Word location in String.\n",
    "Statement: Find a location of a word in a given sentence.\n",
    "\n",
    "Example 1:\n",
    "\n",
    "Input:\n",
    "\n",
    "Sentence: We can learn data science through campusx mentorship program.\n",
    "\n",
    "word: campusx\n",
    "Output:\n",
    "\n",
    "Location of the word is 7."
   ]
  },
  {
   "cell_type": "code",
   "execution_count": 19,
   "metadata": {},
   "outputs": [
    {
     "name": "stdout",
     "output_type": "stream",
     "text": [
      "7\n"
     ]
    }
   ],
   "source": [
    "text = 'We can learn data science through campusx mentorship program.'\n",
    "word = 'campusx'\n",
    "\n",
    "pos = 0\n",
    "\n",
    "for i in text.split(' '):\n",
    "  pos += 1\n",
    "  if i == word:\n",
    "    break\n",
    "  \n",
    "print(pos)"
   ]
  },
  {
   "attachments": {},
   "cell_type": "markdown",
   "metadata": {},
   "source": [
    "# Problem 20: Write a program that can remove all the duplicate characters from a string. User will provide the input."
   ]
  },
  {
   "cell_type": "code",
   "execution_count": 20,
   "metadata": {},
   "outputs": [
    {
     "name": "stdout",
     "output_type": "stream",
     "text": [
      "abcdef\n"
     ]
    }
   ],
   "source": [
    "text = 'aaaabbbbbccccdddeeeeffff'\n",
    "\n",
    "result = ''\n",
    "\n",
    "for i in text:\n",
    "  if i not in result:\n",
    "    result += i\n",
    "\n",
    "print(result)"
   ]
  }
 ],
 "metadata": {
  "kernelspec": {
   "display_name": "Python 3",
   "language": "python",
   "name": "python3"
  },
  "language_info": {
   "codemirror_mode": {
    "name": "ipython",
    "version": 3
   },
   "file_extension": ".py",
   "mimetype": "text/x-python",
   "name": "python",
   "nbconvert_exporter": "python",
   "pygments_lexer": "ipython3",
   "version": "3.11.2"
  },
  "orig_nbformat": 4
 },
 "nbformat": 4,
 "nbformat_minor": 2
}
