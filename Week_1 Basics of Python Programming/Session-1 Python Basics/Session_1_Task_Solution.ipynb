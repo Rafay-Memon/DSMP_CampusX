{
 "cells": [
  {
   "attachments": {},
   "cell_type": "markdown",
   "metadata": {},
   "source": [
    "# Q1 :- Print the given strings as per stated format.\n",
    "Given strings:\n",
    "\n",
    "\"Data\" \"Science\" \"Mentorship\" \"Program\" \n",
    "\"By\" \"CampusX\"\n",
    "Output:\n",
    "\n",
    "Data-Science-Mentorship-Program-started-By-CampusX"
   ]
  },
  {
   "cell_type": "code",
   "execution_count": 1,
   "metadata": {},
   "outputs": [
    {
     "name": "stdout",
     "output_type": "stream",
     "text": [
      "Data-Science-Mentorship-Program-By-CampusX\n"
     ]
    }
   ],
   "source": [
    "#Solution 1\n",
    "print(\"Data\", end= '-')\n",
    "print(\"Science\", end = '-')\n",
    "print(\"Mentorship\", end = '-')\n",
    "print(\"Program\", end = '-')\n",
    "print(\"By\", end = '-')\n",
    "print(\"CampusX\")"
   ]
  },
  {
   "cell_type": "code",
   "execution_count": 17,
   "metadata": {},
   "outputs": [
    {
     "name": "stdout",
     "output_type": "stream",
     "text": [
      "Data-Science-Mentorship-Program-By-CampusX\n"
     ]
    }
   ],
   "source": [
    "#Solution 2\n",
    "\n",
    "print(\"Data\",\"Science\",\"Mentorship\",\"Program\",\"By\",\"CampusX\",sep='-')"
   ]
  },
  {
   "attachments": {},
   "cell_type": "markdown",
   "metadata": {},
   "source": [
    "# Q2:- Write a program that will convert celsius value to fahrenheit."
   ]
  },
  {
   "cell_type": "code",
   "execution_count": 2,
   "metadata": {},
   "outputs": [
    {
     "name": "stdout",
     "output_type": "stream",
     "text": [
      "The equivalent fahrenheit temperature of 36.777C is 98.1986\n"
     ]
    }
   ],
   "source": [
    "temp = float(input(\"Enter temperature in celsius to get it's fahrenheit equivalent \"))\n",
    "f_temp = (temp * 9/5) + 32\n",
    "print(f\"The equivalent fahrenheit temperature of {temp}C is {f_temp}\")"
   ]
  },
  {
   "attachments": {},
   "cell_type": "markdown",
   "metadata": {},
   "source": [
    "# Q3:- Take 2 numbers as input from the user.Write a program to swap the numbers without using any special python syntax."
   ]
  },
  {
   "cell_type": "code",
   "execution_count": 3,
   "metadata": {},
   "outputs": [
    {
     "name": "stdout",
     "output_type": "stream",
     "text": [
      "Enter any two numbers\n",
      "Before swapping: \n",
      "Number 1 is: 10 and Number 2 is: 20\n",
      "After swapping: \n",
      "Number 1 is: 20 and Number 2 is: 10\n"
     ]
    }
   ],
   "source": [
    "print(\"Enter any two numbers\")\n",
    "num1 = int(input(\"Number 1: \"))\n",
    "num2 = int(input(\"Number 2: \"))\n",
    "\n",
    "print(\"Before swapping: \")\n",
    "print(f\"Number 1 is: {num1} and Number 2 is: {num2}\")\n",
    "\n",
    "num1 = num1 + num2\n",
    "num2 = num1 - num2\n",
    "num1 = num1 - num2\n",
    "\n",
    "\n",
    "print(\"After swapping: \")\n",
    "print(f\"Number 1 is: {num1} and Number 2 is: {num2}\")"
   ]
  },
  {
   "attachments": {},
   "cell_type": "markdown",
   "metadata": {},
   "source": [
    "# Q4:- Write a program to find the euclidean distance between two coordinates.Take both the coordinates from the user as input."
   ]
  },
  {
   "cell_type": "code",
   "execution_count": 6,
   "metadata": {},
   "outputs": [
    {
     "name": "stdout",
     "output_type": "stream",
     "text": [
      "Enter two coordinates to get their euclidean distance:\n",
      "The euclidean distance between these two coordinates is : 5.0\n"
     ]
    }
   ],
   "source": [
    "print(\"Enter two coordinates to get their euclidean distance:\")\n",
    "x1 = int(input(\"Enter x1 of coordinate 1: \"))\n",
    "y1 = int(input(\"Enter y1 of coordinate 1: \"))\n",
    "x2 = int(input(\"Enter x2 of coordinate 1: \"))\n",
    "y2 = int(input(\"Enter y2 of coordinate 1: \"))\n",
    "\n",
    "distance = ((x2 - x1)**2 + (y2-y1)**2)**0.5\n",
    "print(f\"The euclidean distance between these two coordinates is : {distance}\")"
   ]
  },
  {
   "attachments": {},
   "cell_type": "markdown",
   "metadata": {},
   "source": [
    "# Q5:- Write a program to find the simple interest when the value of principle,rate of interest and time period is provided by the user."
   ]
  },
  {
   "cell_type": "code",
   "execution_count": 7,
   "metadata": {},
   "outputs": [
    {
     "name": "stdout",
     "output_type": "stream",
     "text": [
      "The simple interest generated according to given data is : 6000.0\n"
     ]
    }
   ],
   "source": [
    "principle = int(input(\"Enter the principle: \"))\n",
    "rate_Of_Interest = int(input(\"Enter the rate of interest in % : \"))\n",
    "time_period = int(input(\"Enter the time period: \"))\n",
    "\n",
    "simple_interest = principle * (rate_Of_Interest / 100) * time_period\n",
    "\n",
    "print(f\"The simple interest generated according to given data is : {simple_interest}\")"
   ]
  },
  {
   "attachments": {},
   "cell_type": "markdown",
   "metadata": {},
   "source": [
    "# Q6:- Write a program that will tell the number of dogs and chicken are there when the user will provide the value of total heads and legs.\n",
    "For example: Input: heads -> 4 legs -> 12\n",
    "Output: dogs -> 2 chicken -> 2"
   ]
  },
  {
   "cell_type": "code",
   "execution_count": 8,
   "metadata": {},
   "outputs": [
    {
     "name": "stdout",
     "output_type": "stream",
     "text": [
      "Input: heads -> 5 legs -> 12\n",
      "Output: dogs -> 1.0 chicken -> 4.0\n"
     ]
    }
   ],
   "source": [
    "heads = int(input(\"Enter the heads: \"))\n",
    "legs = int(input(\"Enter the legs: \"))\n",
    "\n",
    "dogs = (legs - (2 * heads)) / 2\n",
    "chickens = heads - dogs\n",
    "\n",
    "print(\"Input: heads -> {} legs -> {}\".format(heads,legs))\n",
    "print(\"Output: dogs -> {} chicken -> {}\".format(dogs,chickens))"
   ]
  },
  {
   "attachments": {},
   "cell_type": "markdown",
   "metadata": {},
   "source": [
    "# Q7:- Write a program to find the sum of squares of first n natural numbers where n will be provided by the user."
   ]
  },
  {
   "cell_type": "code",
   "execution_count": 15,
   "metadata": {},
   "outputs": [
    {
     "name": "stdout",
     "output_type": "stream",
     "text": [
      "The sum of first 5 natural numbers is : 55.0\n"
     ]
    }
   ],
   "source": [
    "n = int(input(\"Enter the value of n: \"))\n",
    "sum = (n * (n + 1) * (2 * n + 1) )/ 6\n",
    "print(\"The sum of first {} natural numbers is : {}\".format(n,sum))"
   ]
  },
  {
   "attachments": {},
   "cell_type": "markdown",
   "metadata": {},
   "source": [
    "# Q8:- Given the first 2 terms of an Arithmetic Series.Find the Nth term of the series. Assume all inputs are provided by the user."
   ]
  },
  {
   "cell_type": "code",
   "execution_count": 11,
   "metadata": {},
   "outputs": [
    {
     "name": "stdout",
     "output_type": "stream",
     "text": [
      "The 5th of this series is: 35\n"
     ]
    }
   ],
   "source": [
    "f_num = int(input(\"Enter 1st number: \"))\n",
    "s_num = int(input(\"Enter 2nd number: \"))\n",
    "diff = s_num - f_num \n",
    "n_term = int(input(\"Enter nth that you want to find: \"))\n",
    "ans = f_num + (n_term - 1) * diff\n",
    "print(f\"The {n_term}th of this series is: {ans}\")"
   ]
  },
  {
   "attachments": {},
   "cell_type": "markdown",
   "metadata": {},
   "source": [
    "# Q9:- Given 2 fractions, find the sum of those 2 fractions.Take the numerator and denominator values of the fractions from the user."
   ]
  },
  {
   "cell_type": "code",
   "execution_count": 14,
   "metadata": {},
   "outputs": [
    {
     "name": "stdout",
     "output_type": "stream",
     "text": [
      "Enter two fractions to get their sum :\n",
      "The answers is : 3.1666666666666665\n"
     ]
    }
   ],
   "source": [
    "print(\"Enter two fractions to get their sum :\")\n",
    "num1 = int(input(\"Enter numerator of fraction 1: \"))\n",
    "den1 = int(input(\"Enter denominator of fraction 1: \"))\n",
    "num2 = int(input(\"Enter numerator of fraction 2: \"))\n",
    "den2 = int(input(\"Enter denominator of coordinate 2: \"))\n",
    "\n",
    "ans = (num1 * den2 + num2 * den1) / (den1 * den2)\n",
    "\n",
    "print(f\"The answers is : {ans}\")"
   ]
  },
  {
   "attachments": {},
   "cell_type": "markdown",
   "metadata": {},
   "source": [
    "# Q10:- Given the height, width and breadth of a milk tank, you have to find out how many glasses of milk can be obtained? Assume all the inputs are provided by the user.\n",
    "Input:\n",
    "Dimensions of the milk tank\n",
    "H = 20cm, L = 20cm, B = 20cm\n",
    "\n",
    "Dimensions of the glass\n",
    "h = 3cm, r = 1cm"
   ]
  },
  {
   "cell_type": "code",
   "execution_count": 16,
   "metadata": {},
   "outputs": [
    {
     "name": "stdout",
     "output_type": "stream",
     "text": [
      "127.27272727272728\n"
     ]
    }
   ],
   "source": [
    "h_tank = int(input('Height of tank:'))\n",
    "l_tank = int(input('Length of tank:'))\n",
    "b_tank = int(input('Breadth of tank:'))\n",
    "h_glass = int(input('Height of glass:'))\n",
    "r_glass = int(input('Radius of glass:'))\n",
    "\n",
    "vol_tank = h_tank * l_tank * b_tank\n",
    "vol_glass = (22/7) * (r_glass**2) * h_glass\n",
    "\n",
    "n = vol_tank / vol_glass\n",
    "print(n)"
   ]
  }
 ],
 "metadata": {
  "kernelspec": {
   "display_name": "Python 3",
   "language": "python",
   "name": "python3"
  },
  "language_info": {
   "codemirror_mode": {
    "name": "ipython",
    "version": 3
   },
   "file_extension": ".py",
   "mimetype": "text/x-python",
   "name": "python",
   "nbconvert_exporter": "python",
   "pygments_lexer": "ipython3",
   "version": "3.11.2"
  },
  "orig_nbformat": 4
 },
 "nbformat": 4,
 "nbformat_minor": 2
}
